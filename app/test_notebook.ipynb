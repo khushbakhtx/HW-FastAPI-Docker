{
 "cells": [
  {
   "cell_type": "code",
   "execution_count": 1,
   "metadata": {},
   "outputs": [],
   "source": [
    "base_endpoint = 'http://0.0.0.0:8008'"
   ]
  },
  {
   "cell_type": "code",
   "execution_count": 3,
   "metadata": {},
   "outputs": [],
   "source": [
    "# test inputs for predict\n",
    "payload = {\n",
    "    'sepal_length': [1, 3],\n",
    "    'sepal_width': [2, 4],\n",
    "    'petal_length': [1, 4],\n",
    "    'petal_width': [3, 4],\n",
    "}"
   ]
  },
  {
   "cell_type": "code",
   "execution_count": 4,
   "metadata": {},
   "outputs": [],
   "source": [
    "# test inputs for predict\n",
    "single_payload = {\n",
    "    'sepal_length': 1,\n",
    "    'sepal_width': 1,\n",
    "    'petal_length': 1,\n",
    "    'petal_width': 1,\n",
    "}"
   ]
  },
  {
   "cell_type": "code",
   "execution_count": 5,
   "metadata": {},
   "outputs": [],
   "source": [
    "import requests"
   ]
  },
  {
   "cell_type": "code",
   "execution_count": 6,
   "metadata": {},
   "outputs": [
    {
     "data": {
      "text/plain": [
       "{'status': 'success'}"
      ]
     },
     "execution_count": 6,
     "metadata": {},
     "output_type": "execute_result"
    }
   ],
   "source": [
    "# health check\n",
    "r = requests.get(url = f'{base_endpoint}/readiness')\n",
    "r.json()"
   ]
  },
  {
   "cell_type": "code",
   "execution_count": 10,
   "metadata": {},
   "outputs": [
    {
     "data": {
      "text/plain": [
       "{'predictions': [[1]], 'model_name': 'catboost_model.pkl'}"
      ]
     },
     "execution_count": 10,
     "metadata": {},
     "output_type": "execute_result"
    }
   ],
   "source": [
    "# test predict 1\n",
    "r = requests.post(\n",
    "    url = f'{base_endpoint}/predict',\n",
    "    json=single_payload\n",
    ")\n",
    "r.json()\n"
   ]
  },
  {
   "cell_type": "code",
   "execution_count": 11,
   "metadata": {},
   "outputs": [
    {
     "data": {
      "text/plain": [
       "{'predictions': [[2], [2]], 'model_name': 'catboost_model.pkl'}"
      ]
     },
     "execution_count": 11,
     "metadata": {},
     "output_type": "execute_result"
    }
   ],
   "source": [
    "# test predict 2\n",
    "r = requests.post(\n",
    "    url = f'{base_endpoint}/predict',\n",
    "    json=payload\n",
    ")\n",
    "r.json()\n"
   ]
  },
  {
   "cell_type": "code",
   "execution_count": null,
   "metadata": {},
   "outputs": [],
   "source": [
    "import yfinance as yf\n",
    "\n",
    "base_currency = \"USD\"\n",
    "quote_currency = \"EUR\"\n",
    "ticker = f\"{base_currency}{quote_currency}=X\"\n",
    "\n",
    "data = yf.Ticker(ticker)\n",
    "history = data.history(period=\"1d\")"
   ]
  }
 ],
 "metadata": {
  "kernelspec": {
   "display_name": "mlops-course-9t0sZKVJ-py3.12",
   "language": "python",
   "name": "python3"
  },
  "language_info": {
   "codemirror_mode": {
    "name": "ipython",
    "version": 3
   },
   "file_extension": ".py",
   "mimetype": "text/x-python",
   "name": "python",
   "nbconvert_exporter": "python",
   "pygments_lexer": "ipython3",
   "version": "3.12.1"
  }
 },
 "nbformat": 4,
 "nbformat_minor": 2
}
